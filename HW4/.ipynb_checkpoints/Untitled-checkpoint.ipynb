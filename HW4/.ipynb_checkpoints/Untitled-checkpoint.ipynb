{
 "cells": [
  {
   "cell_type": "code",
   "execution_count": 140,
   "metadata": {},
   "outputs": [],
   "source": [
    "# Author: Ameer Hassan\n",
    "# Date: 20200224\n",
    "# CS301-006, Professor Watson\n",
    "# HW04 Solution\n",
    "# Description: This homework is to provide practice with Data Manipulation\n",
    "# link to the git repo: https://github.com/AmeerYHassan/CS301\n",
    "# link-to-the-relevant-git-commit: https://github.com/AmeerYHassan/CS301/blob/master/HW4/HW4.ipynb\n",
    "# name-of-the-branch: master"
   ]
  },
  {
   "cell_type": "markdown",
   "metadata": {},
   "source": [
    "# HW4 - Data Manipulation"
   ]
  },
  {
   "cell_type": "markdown",
   "metadata": {},
   "source": [
    "Importing necessary libraries to do this assignment"
   ]
  },
  {
   "cell_type": "code",
   "execution_count": 141,
   "metadata": {},
   "outputs": [],
   "source": [
    "import pandas as pd\n",
    "import numpy as np"
   ]
  },
  {
   "cell_type": "markdown",
   "metadata": {},
   "source": [
    "`data_reader` function from last HW to read in .csv files:"
   ]
  },
  {
   "cell_type": "code",
   "execution_count": 142,
   "metadata": {},
   "outputs": [],
   "source": [
    "def data_reader(data_path):\n",
    "    try:\n",
    "        df = pd.read_csv(data_path)\n",
    "        print(df.shape)\n",
    "        return df\n",
    "    except FileNotFoundError:\n",
    "        print(\"Error during reading, please try again.\")\n",
    "        return None"
   ]
  },
  {
   "cell_type": "markdown",
   "metadata": {},
   "source": [
    "## Problem 1: Percent NaN"
   ]
  },
  {
   "cell_type": "markdown",
   "metadata": {},
   "source": [
    "Write a function called `get_percent_nans` which takes the following input parameters: `df (DataFrame)` - a DataFrame object, `column_name (str)` - a column name. You may assume that the `column_name` exists in the DataFrame. This function should return the percentage of empty values of `column_name` in `df` scaled to 100 (i.e. the number should not be less than 1)."
   ]
  },
  {
   "cell_type": "code",
   "execution_count": 143,
   "metadata": {},
   "outputs": [],
   "source": [
    "# Return \n",
    "def get_percent_nans(df, column_name):\n",
    "    return round((len(df.loc[(df[column_name].isna())])/len(df))*100, 2)"
   ]
  },
  {
   "cell_type": "code",
   "execution_count": 144,
   "metadata": {},
   "outputs": [
    {
     "name": "stdout",
     "output_type": "stream",
     "text": [
      "(1877, 7)\n",
      "The Province/State column has 24.45% empty values\n",
      "The Country/Region column has 0.0% empty values\n",
      "The Last Update column has 0.0% empty values\n",
      "The Confirmed column has 1.6% empty values\n",
      "The Suspected column has 95.31% empty values\n",
      "The Recovered column has 46.67% empty values\n",
      "The Death column has 53.22% empty values\n"
     ]
    }
   ],
   "source": [
    "df = data_reader('Corona_Datasets\\\\2019_nCoV_20200121_20200206.csv')\n",
    "for col in df.columns:\n",
    "    print(f\"The {col} column has {get_percent_nans(df, col)}% empty values\")"
   ]
  },
  {
   "cell_type": "markdown",
   "metadata": {},
   "source": [
    "## Problem 2: Most Deaths"
   ]
  },
  {
   "cell_type": "markdown",
   "metadata": {},
   "source": [
    "According to the data found in the `2019_nCoV_20200121_20200206.csv` file, which Country/Region has the most amount of Deaths?"
   ]
  },
  {
   "cell_type": "code",
   "execution_count": 145,
   "metadata": {},
   "outputs": [
    {
     "name": "stdout",
     "output_type": "stream",
     "text": [
      "Maximum Deaths: Mainland China with 6539.\n"
     ]
    }
   ],
   "source": [
    "country_groups = df.groupby('Country/Region')\n",
    "maxDeathCount = 0\n",
    "maxDeathCountry = \"\"\n",
    "for country in df['Country/Region'].unique():\n",
    "    if ((country_groups.get_group(country))['Death'].sum()) > maxDeathCount:\n",
    "        maxDeathCount = int((country_groups.get_group(country))['Death'].sum())\n",
    "        maxDeathCountry = country\n",
    "        \n",
    "print(f\"Maximum Deaths: {maxDeathCountry} with {maxDeathCount}.\")    "
   ]
  },
  {
   "cell_type": "markdown",
   "metadata": {},
   "source": [
    "## Problem 3: Most Suspected Cases"
   ]
  },
  {
   "cell_type": "markdown",
   "metadata": {},
   "source": [
    "According to the data found in the `2019_nCoV_20200121_20200206.csv` file, which Country/Region has the highest number of suspected cases of 2019 nCoV?"
   ]
  },
  {
   "cell_type": "code",
   "execution_count": 146,
   "metadata": {},
   "outputs": [
    {
     "name": "stdout",
     "output_type": "stream",
     "text": [
      "Maximum Suspected Cases: Hong Kong with 1139.\n"
     ]
    }
   ],
   "source": [
    "country_groups = df.groupby('Country/Region')\n",
    "maxSuspectedCount = 0\n",
    "maxSuspectedCountry = \"\"\n",
    "for country in df['Country/Region'].unique():\n",
    "    if ((country_groups.get_group(country))['Suspected'].sum()) > maxSuspectedCount:\n",
    "        maxSuspectedCount = int((country_groups.get_group(country))['Suspected'].sum())\n",
    "        maxSuspectedCountry = country\n",
    "        \n",
    "print(f\"Maximum Suspected Cases: {maxSuspectedCountry} with {maxSuspectedCount}.\")    "
   ]
  },
  {
   "cell_type": "markdown",
   "metadata": {},
   "source": [
    "## Problem 4: Second Highest Recovered Cases"
   ]
  },
  {
   "cell_type": "markdown",
   "metadata": {},
   "source": [
    "According to the data found in the `2019_nCoV_20200121_20200206.csv` file, which Country/Region has the second highest average number of recovered cases of 2019 nCoV?"
   ]
  },
  {
   "cell_type": "code",
   "execution_count": 147,
   "metadata": {},
   "outputs": [
    {
     "name": "stdout",
     "output_type": "stream",
     "text": [
      "Second max recovered country is Thailand with 4.5\n"
     ]
    }
   ],
   "source": [
    "country_groups = df.groupby('Country/Region')\n",
    "\n",
    "countMaxRecovered = 0\n",
    "countSecondMaxRecovered = 0\n",
    "maxRecoveredCountry = \"\"\n",
    "secondMaxRecoveredCountry = \"\"\n",
    "\n",
    "for country in df['Country/Region'].unique():\n",
    "    currMean = country_groups.get_group(country)['Recovered'].mean()\n",
    "    if(currMean > countMaxRecovered and currMean > countSecondMaxRecovered):\n",
    "        countMaxRecovered = currMean\n",
    "        maxRecoveredCountry = country\n",
    "    if(currMean < countMaxRecovered and currMean > countSecondMaxRecovered):\n",
    "        countSecondMaxRecovered = currMean\n",
    "        secondMaxRecoveredCountry = country\n",
    "\n",
    "print(f\"Second max recovered country is {secondMaxRecoveredCountry} with {countSecondMaxRecovered}\")"
   ]
  },
  {
   "cell_type": "markdown",
   "metadata": {},
   "source": [
    "## Problem 5: Continent to Country Dictionary"
   ]
  },
  {
   "cell_type": "markdown",
   "metadata": {},
   "source": [
    "Create a dictionary which maps the Country/Region to the continent it is a member of."
   ]
  },
  {
   "cell_type": "code",
   "execution_count": 148,
   "metadata": {},
   "outputs": [],
   "source": [
    "countryDict = {\n",
    "    'Africa' : ['Ivory Coast'],\n",
    "    'North America' : ['Canada', 'United States', 'Mexico'],\n",
    "    'South America' : ['Brazil', 'Colombia'],\n",
    "    'Antarctica' : [],\n",
    "    'Asia' : ['Sri Lanka', 'Nepal', 'Cambodia', 'Phillipines', 'India', 'United Arab Emirates', 'Vietnam', 'Macau', 'Taiwan', 'Malaysia', 'Mainland China', 'Singapore', 'Thailand', 'Japan', 'Hong Kong', 'South Korea'],\n",
    "    'Australia': ['Australia'],\n",
    "    'Europe' : ['Sweden', 'Spain', 'Belgium', 'UK', 'Russia', 'France', 'Germany', 'Italy', 'Finland']\n",
    "}"
   ]
  },
  {
   "cell_type": "markdown",
   "metadata": {},
   "source": [
    "## Problem 6: get_continent function"
   ]
  },
  {
   "cell_type": "markdown",
   "metadata": {},
   "source": [
    "Write a function called `get_continent` which takes as input one parameter: `country (str)` - a particular country in the data set. The dictionary from Problem 4 should be defined/assigned inside the scope of this function (i.e.,the dictionary should not be a global variable). `get_continent` takes the `country` parameter and returns the continent that it is a part of."
   ]
  },
  {
   "cell_type": "code",
   "execution_count": 149,
   "metadata": {},
   "outputs": [
    {
     "name": "stdout",
     "output_type": "stream",
     "text": [
      "Europe\n"
     ]
    }
   ],
   "source": [
    "def get_continent(country):\n",
    "    for countryName in countryDict:\n",
    "        if country in countryDict[countryName]:\n",
    "            return countryName\n",
    "\n",
    "print(get_continent('UK'))"
   ]
  },
  {
   "cell_type": "markdown",
   "metadata": {},
   "source": [
    "## Problem 7: Continent Column"
   ]
  },
  {
   "cell_type": "markdown",
   "metadata": {},
   "source": [
    "Add a column called ‘Continent’ which uses the mapping from Problem 5 to match the Country/Region to the continent it is from. You may use `DataFrame.apply()` if you are feeling confident. Otherwise, you may use a for loop to iterate over the Countries and produce their corresponding Continents."
   ]
  },
  {
   "cell_type": "code",
   "execution_count": 150,
   "metadata": {},
   "outputs": [],
   "source": [
    "df['Continent'] = None\n",
    "\n",
    "for row in df.itertuples():\n",
    "    df.at[row.Index, 'Continent'] = get_continent(df.at[row.Index, 'Country/Region'])"
   ]
  },
  {
   "cell_type": "markdown",
   "metadata": {},
   "source": [
    "## Problem 8: Confirmed Cases by Continent"
   ]
  },
  {
   "cell_type": "markdown",
   "metadata": {},
   "source": [
    "According to the data found in the “2019_nCoV_20200121_20200206.csv” file, what are the total number of confirmed cases of 2019 nCoV in each continent?"
   ]
  },
  {
   "cell_type": "code",
   "execution_count": 152,
   "metadata": {},
   "outputs": [
    {
     "name": "stdout",
     "output_type": "stream",
     "text": [
      "Confirmed cases in Asia: 304933.0\n",
      "Confirmed cases in Europe: 421.0\n",
      "Confirmed cases in Australia: 238.0\n",
      "Confirmed cases in North America: 273.0\n",
      "Confirmed cases in Africa: 1.0\n",
      "Confirmed cases in South America: 0.0\n"
     ]
    }
   ],
   "source": [
    "continent_groups = df.groupby('Continent')\n",
    "\n",
    "for continent in df['Continent'].unique():\n",
    "    if(continent):\n",
    "        print(f\"Confirmed cases in {continent}: {continent_groups.get_group(continent)['Confirmed'].sum()}\")"
   ]
  },
  {
   "cell_type": "code",
   "execution_count": null,
   "metadata": {},
   "outputs": [],
   "source": []
  },
  {
   "cell_type": "code",
   "execution_count": null,
   "metadata": {},
   "outputs": [],
   "source": []
  }
 ],
 "metadata": {
  "kernelspec": {
   "display_name": "Python 3",
   "language": "python",
   "name": "python3"
  },
  "language_info": {
   "codemirror_mode": {
    "name": "ipython",
    "version": 3
   },
   "file_extension": ".py",
   "mimetype": "text/x-python",
   "name": "python",
   "nbconvert_exporter": "python",
   "pygments_lexer": "ipython3",
   "version": "3.7.4"
  }
 },
 "nbformat": 4,
 "nbformat_minor": 2
}
